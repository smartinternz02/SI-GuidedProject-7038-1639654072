{
 "cells": [
  {
   "cell_type": "markdown",
   "metadata": {},
   "source": [
    "# STEPS \n",
    "#IMPORT LIBRARIES\n",
    "2.PREPROCESS IMACE:\n",
    "    ADD SOME PREPROCESSING FEATURES TO THE REAS=D DATA WHICH \n",
    "    IS CALLED AS ARGUMENTATION FOR THIS WE USE IMAGE \n",
    "    DATA GENERATOR CLASS CREATE A FUNCTION\n",
    "    READ THE DATASET AND APPLY PREPROCESSING FEATURES \n",
    "    WHICH ARE DECLARED ABOVE\n",
    "   3.INITIALISE THE MODEL \n",
    "4.ADD CONV(IMAGE(SHAPE,HOWMANY FEATURE DECTOR,SIZE)\n",
    "5.ADD POOLIN(POOLING SIZE)\n",
    "6.ADD FLATENNING LAYER_INPUT LAYER\n",
    "7.ADD DENSE LAYERS(HIDDEN,OUT)(UNIT,WEIGHTS,ACTIVATION)\n",
    "8.CONFIGURE THE LEARNING(OPTIMIZER ,LOSS, METRICS)\n",
    "9.FIT\n",
    "10.SAVE THE B=MODEL"
   ]
  },
  {
   "cell_type": "raw",
   "metadata": {},
   "source": [
    "CREATE MAIN FOLDER\n",
    "TEST FOLDER:\n",
    "CLASSES\n",
    "TRAIN FOLDER:\n",
    "CLASSES\n",
    "70% FOR TRAIN\n",
    "30% FOR TESTING"
   ]
  },
  {
   "cell_type": "code",
   "execution_count": 1,
   "metadata": {},
   "outputs": [],
   "source": [
    "from keras.models import Sequential\n",
    "from keras.layers import Dense\n",
    "from keras.layers import Convolution2D\n",
    "from keras.layers import MaxPooling2D\n",
    "from keras.layers import Flatten"
   ]
  },
  {
   "cell_type": "code",
   "execution_count": 2,
   "metadata": {},
   "outputs": [],
   "source": [
    "from keras.preprocessing.image import ImageDataGenerator\n",
    "train_datagen = ImageDataGenerator(rescale =1./255,shear_range = 0.2,zoom_range = 0.2,horizontal_flip = True)\n",
    "test_datagen = ImageDataGenerator(rescale =1./255)\n",
    "#0 to 1 \n",
    "#100 images-zoom ,zoom out hori 100*3=300\n",
    "#sher_range_zoome_0.2=20%\n",
    "#these preprocessing are only for trainig not for testing"
   ]
  },
  {
   "cell_type": "code",
   "execution_count": 3,
   "metadata": {},
   "outputs": [
    {
     "name": "stdout",
     "output_type": "stream",
     "text": [
      "Found 2205 images belonging to 5 classes.\n",
      "Found 550 images belonging to 5 classes.\n"
     ]
    }
   ],
   "source": [
    "x_train = train_datagen.flow_from_directory(r\"C:\\Users\\Sri_Harshitha\\Desktop\\skin-disease-identification-using-ML-master\\Dataset\\Dataset\\train\", target_size = (64,64),batch_size = 32, class_mode=\"categorical\")\n",
    "x_test = test_datagen.flow_from_directory(r\"C:\\Users\\Sri_Harshitha\\Desktop\\skin-disease-identification-using-ML-master\\Dataset\\Dataset\\test\", target_size = (64,64),batch_size = 32, class_mode=\"categorical\")"
   ]
  },
  {
   "cell_type": "code",
   "execution_count": 4,
   "metadata": {},
   "outputs": [],
   "source": [
    "import keras\n",
    "from keras.models import Sequential\n",
    "from keras.layers import Dense\n"
   ]
  },
  {
   "cell_type": "code",
   "execution_count": 5,
   "metadata": {},
   "outputs": [],
   "source": [
    "model = Sequential()"
   ]
  },
  {
   "cell_type": "code",
   "execution_count": 6,
   "metadata": {},
   "outputs": [],
   "source": [
    "model.add(Convolution2D(32,(3,3),input_shape = (64,64,3),activation = \"relu\"))"
   ]
  },
  {
   "cell_type": "code",
   "execution_count": 7,
   "metadata": {},
   "outputs": [],
   "source": [
    "model.add(MaxPooling2D(pool_size = (2,2)))\n"
   ]
  },
  {
   "cell_type": "code",
   "execution_count": 8,
   "metadata": {},
   "outputs": [],
   "source": [
    "model.add(Flatten())\n"
   ]
  },
  {
   "cell_type": "code",
   "execution_count": 9,
   "metadata": {},
   "outputs": [],
   "source": [
    "model.add(Dense(units = 240, kernel_initializer = \"random_uniform\",activation = \"relu\"))"
   ]
  },
  {
   "cell_type": "code",
   "execution_count": 10,
   "metadata": {},
   "outputs": [],
   "source": [
    "model.add(Dense(units = 190, kernel_initializer = \"random_uniform\",activation = \"relu\"))"
   ]
  },
  {
   "cell_type": "code",
   "execution_count": 11,
   "metadata": {},
   "outputs": [],
   "source": [
    "model.add(Dense(units = 128, kernel_initializer = \"random_uniform\",activation = \"relu\"))"
   ]
  },
  {
   "cell_type": "code",
   "execution_count": 12,
   "metadata": {},
   "outputs": [],
   "source": [
    "model.add(Dense(units = 5 , kernel_initializer = \"random_uniform\", activation = \"softmax\"))"
   ]
  },
  {
   "cell_type": "code",
   "execution_count": 13,
   "metadata": {},
   "outputs": [],
   "source": [
    "model.compile(optimizer = \"adam\",loss = \"categorical_crossentropy\",metrics = [\"accuracy\"])"
   ]
  },
  {
   "cell_type": "code",
   "execution_count": 14,
   "metadata": {},
   "outputs": [
    {
     "data": {
      "text/plain": [
       "{'Acne': 0, 'Melanoma': 1, 'Psoriasis': 2, 'Rosacea': 3, 'Vitiligo': 4}"
      ]
     },
     "execution_count": 14,
     "metadata": {},
     "output_type": "execute_result"
    }
   ],
   "source": [
    "x_train.class_indices"
   ]
  },
  {
   "cell_type": "code",
   "execution_count": 15,
   "metadata": {},
   "outputs": [
    {
     "name": "stdout",
     "output_type": "stream",
     "text": [
      "Epoch 1/100\n",
      "68/68 [==============================] - 55s 794ms/step - loss: 1.6019 - accuracy: 0.2241 - val_loss: 1.5950 - val_accuracy: 0.2684\n",
      "Epoch 2/100\n",
      "68/68 [==============================] - 16s 239ms/step - loss: 1.5337 - accuracy: 0.2973 - val_loss: 1.4254 - val_accuracy: 0.3401\n",
      "Epoch 3/100\n",
      "68/68 [==============================] - 16s 229ms/step - loss: 1.4497 - accuracy: 0.3470 - val_loss: 1.4292 - val_accuracy: 0.3658\n",
      "Epoch 4/100\n",
      "68/68 [==============================] - 16s 227ms/step - loss: 1.3962 - accuracy: 0.3916 - val_loss: 1.3213 - val_accuracy: 0.4706\n",
      "Epoch 5/100\n",
      "68/68 [==============================] - 16s 228ms/step - loss: 1.3224 - accuracy: 0.4468 - val_loss: 1.2811 - val_accuracy: 0.4706\n",
      "Epoch 6/100\n",
      "68/68 [==============================] - 15s 213ms/step - loss: 1.2621 - accuracy: 0.4676 - val_loss: 1.2488 - val_accuracy: 0.4798\n",
      "Epoch 7/100\n",
      "68/68 [==============================] - 15s 227ms/step - loss: 1.2313 - accuracy: 0.4919 - val_loss: 1.2361 - val_accuracy: 0.5110\n",
      "Epoch 8/100\n",
      "68/68 [==============================] - 14s 212ms/step - loss: 1.1868 - accuracy: 0.5140 - val_loss: 1.2697 - val_accuracy: 0.4577\n",
      "Epoch 9/100\n",
      "68/68 [==============================] - 14s 209ms/step - loss: 1.1486 - accuracy: 0.5228 - val_loss: 1.2236 - val_accuracy: 0.4982\n",
      "Epoch 10/100\n",
      "68/68 [==============================] - 15s 223ms/step - loss: 1.1387 - accuracy: 0.5426 - val_loss: 1.2485 - val_accuracy: 0.4853\n",
      "Epoch 11/100\n",
      "68/68 [==============================] - 15s 220ms/step - loss: 1.1027 - accuracy: 0.5490 - val_loss: 1.2668 - val_accuracy: 0.4908\n",
      "Epoch 12/100\n",
      "68/68 [==============================] - 14s 211ms/step - loss: 1.0530 - accuracy: 0.5711 - val_loss: 1.2783 - val_accuracy: 0.5110\n",
      "Epoch 13/100\n",
      "68/68 [==============================] - 14s 212ms/step - loss: 1.0408 - accuracy: 0.5849 - val_loss: 1.2607 - val_accuracy: 0.5331\n",
      "Epoch 14/100\n",
      "68/68 [==============================] - 15s 216ms/step - loss: 0.9991 - accuracy: 0.5955 - val_loss: 1.3526 - val_accuracy: 0.4908\n",
      "Epoch 15/100\n",
      "68/68 [==============================] - 15s 224ms/step - loss: 0.9602 - accuracy: 0.6199 - val_loss: 1.4582 - val_accuracy: 0.4412\n",
      "Epoch 16/100\n",
      "68/68 [==============================] - 15s 215ms/step - loss: 0.9316 - accuracy: 0.6410 - val_loss: 1.2942 - val_accuracy: 0.4963\n",
      "Epoch 17/100\n",
      "68/68 [==============================] - 16s 232ms/step - loss: 0.9395 - accuracy: 0.6351 - val_loss: 1.3390 - val_accuracy: 0.4963\n",
      "Epoch 18/100\n",
      "68/68 [==============================] - 15s 214ms/step - loss: 0.9016 - accuracy: 0.6443 - val_loss: 1.3107 - val_accuracy: 0.5478\n",
      "Epoch 19/100\n",
      "68/68 [==============================] - 15s 223ms/step - loss: 0.8379 - accuracy: 0.6751 - val_loss: 1.3054 - val_accuracy: 0.5386\n",
      "Epoch 20/100\n",
      "68/68 [==============================] - 14s 212ms/step - loss: 0.8213 - accuracy: 0.6838 - val_loss: 1.3746 - val_accuracy: 0.5551\n",
      "Epoch 21/100\n",
      "68/68 [==============================] - 14s 208ms/step - loss: 0.7791 - accuracy: 0.6977 - val_loss: 1.3673 - val_accuracy: 0.5368\n",
      "Epoch 22/100\n",
      "68/68 [==============================] - 14s 205ms/step - loss: 0.7408 - accuracy: 0.7179 - val_loss: 1.4391 - val_accuracy: 0.5404\n",
      "Epoch 23/100\n",
      "68/68 [==============================] - 15s 223ms/step - loss: 0.7526 - accuracy: 0.7161 - val_loss: 1.3146 - val_accuracy: 0.5423\n",
      "Epoch 24/100\n",
      "68/68 [==============================] - 15s 222ms/step - loss: 0.7120 - accuracy: 0.7386 - val_loss: 1.4037 - val_accuracy: 0.5478\n",
      "Epoch 25/100\n",
      "68/68 [==============================] - 16s 239ms/step - loss: 0.6936 - accuracy: 0.7262 - val_loss: 1.4113 - val_accuracy: 0.5607\n",
      "Epoch 26/100\n",
      "68/68 [==============================] - 19s 287ms/step - loss: 0.6610 - accuracy: 0.7506 - val_loss: 1.5275 - val_accuracy: 0.5202\n",
      "Epoch 27/100\n",
      "68/68 [==============================] - 20s 298ms/step - loss: 0.6620 - accuracy: 0.7556 - val_loss: 1.5422 - val_accuracy: 0.5147\n",
      "Epoch 28/100\n",
      "68/68 [==============================] - 19s 282ms/step - loss: 0.6536 - accuracy: 0.7621 - val_loss: 1.5184 - val_accuracy: 0.5441\n",
      "Epoch 29/100\n",
      "68/68 [==============================] - 19s 279ms/step - loss: 0.6038 - accuracy: 0.7842 - val_loss: 1.4572 - val_accuracy: 0.5551\n",
      "Epoch 30/100\n",
      "68/68 [==============================] - 19s 282ms/step - loss: 0.5666 - accuracy: 0.7911 - val_loss: 1.5073 - val_accuracy: 0.5496\n",
      "Epoch 31/100\n",
      "68/68 [==============================] - 19s 281ms/step - loss: 0.5460 - accuracy: 0.8044 - val_loss: 1.4971 - val_accuracy: 0.5717\n",
      "Epoch 32/100\n",
      "68/68 [==============================] - 19s 277ms/step - loss: 0.5131 - accuracy: 0.8141 - val_loss: 1.6937 - val_accuracy: 0.5441\n",
      "Epoch 33/100\n",
      "68/68 [==============================] - 19s 275ms/step - loss: 0.5023 - accuracy: 0.8187 - val_loss: 1.6563 - val_accuracy: 0.5515\n",
      "Epoch 34/100\n",
      "68/68 [==============================] - 15s 212ms/step - loss: 0.4791 - accuracy: 0.8325 - val_loss: 1.7172 - val_accuracy: 0.5717\n",
      "Epoch 35/100\n",
      "68/68 [==============================] - 14s 208ms/step - loss: 0.4300 - accuracy: 0.8500 - val_loss: 1.6851 - val_accuracy: 0.5588\n",
      "Epoch 36/100\n",
      "68/68 [==============================] - 15s 214ms/step - loss: 0.4274 - accuracy: 0.8527 - val_loss: 1.7881 - val_accuracy: 0.5919\n",
      "Epoch 37/100\n",
      "68/68 [==============================] - 15s 213ms/step - loss: 0.4497 - accuracy: 0.8306 - val_loss: 1.8133 - val_accuracy: 0.5662\n",
      "Epoch 38/100\n",
      "68/68 [==============================] - 14s 212ms/step - loss: 0.4214 - accuracy: 0.8514 - val_loss: 1.7665 - val_accuracy: 0.5735\n",
      "Epoch 39/100\n",
      "68/68 [==============================] - 15s 225ms/step - loss: 0.4297 - accuracy: 0.8431 - val_loss: 1.7324 - val_accuracy: 0.5772\n",
      "Epoch 40/100\n",
      "68/68 [==============================] - 15s 219ms/step - loss: 0.4304 - accuracy: 0.8440 - val_loss: 1.6500 - val_accuracy: 0.5864\n",
      "Epoch 41/100\n",
      "68/68 [==============================] - 15s 218ms/step - loss: 0.3974 - accuracy: 0.8537 - val_loss: 1.6781 - val_accuracy: 0.5956\n",
      "Epoch 42/100\n",
      "68/68 [==============================] - 16s 229ms/step - loss: 0.3852 - accuracy: 0.8679 - val_loss: 1.7742 - val_accuracy: 0.5662\n",
      "Epoch 43/100\n",
      "68/68 [==============================] - 14s 206ms/step - loss: 0.3424 - accuracy: 0.8808 - val_loss: 1.9421 - val_accuracy: 0.5809\n",
      "Epoch 44/100\n",
      "68/68 [==============================] - 14s 206ms/step - loss: 0.3315 - accuracy: 0.8854 - val_loss: 1.9049 - val_accuracy: 0.5772\n",
      "Epoch 45/100\n",
      "68/68 [==============================] - 15s 218ms/step - loss: 0.3488 - accuracy: 0.8803 - val_loss: 1.8452 - val_accuracy: 0.5919\n",
      "Epoch 46/100\n",
      "68/68 [==============================] - 15s 221ms/step - loss: 0.3485 - accuracy: 0.8785 - val_loss: 1.9804 - val_accuracy: 0.5533\n",
      "Epoch 47/100\n",
      "68/68 [==============================] - 15s 223ms/step - loss: 0.3300 - accuracy: 0.8863 - val_loss: 1.8520 - val_accuracy: 0.6066\n",
      "Epoch 48/100\n",
      "68/68 [==============================] - 15s 215ms/step - loss: 0.2694 - accuracy: 0.9066 - val_loss: 2.0185 - val_accuracy: 0.5754\n",
      "Epoch 49/100\n",
      "68/68 [==============================] - 16s 230ms/step - loss: 0.2758 - accuracy: 0.9029 - val_loss: 1.9883 - val_accuracy: 0.5846\n",
      "Epoch 50/100\n",
      "68/68 [==============================] - 15s 212ms/step - loss: 0.2902 - accuracy: 0.8965 - val_loss: 1.9997 - val_accuracy: 0.5901\n",
      "Epoch 51/100\n",
      "68/68 [==============================] - 15s 218ms/step - loss: 0.2660 - accuracy: 0.9066 - val_loss: 2.2954 - val_accuracy: 0.5790\n",
      "Epoch 52/100\n",
      "68/68 [==============================] - 14s 211ms/step - loss: 0.2716 - accuracy: 0.9034 - val_loss: 2.3156 - val_accuracy: 0.5607\n",
      "Epoch 53/100\n",
      "68/68 [==============================] - 16s 232ms/step - loss: 0.2837 - accuracy: 0.9047 - val_loss: 1.9642 - val_accuracy: 0.5882\n",
      "Epoch 54/100\n",
      "68/68 [==============================] - 16s 232ms/step - loss: 0.2252 - accuracy: 0.9222 - val_loss: 2.1212 - val_accuracy: 0.5662\n",
      "Epoch 55/100\n",
      "68/68 [==============================] - 16s 228ms/step - loss: 0.2440 - accuracy: 0.9172 - val_loss: 2.0388 - val_accuracy: 0.5790\n",
      "Epoch 56/100\n",
      "68/68 [==============================] - 16s 229ms/step - loss: 0.2417 - accuracy: 0.9231 - val_loss: 2.2325 - val_accuracy: 0.5772\n",
      "Epoch 57/100\n",
      "68/68 [==============================] - 16s 234ms/step - loss: 0.2199 - accuracy: 0.9296 - val_loss: 2.1292 - val_accuracy: 0.5919\n",
      "Epoch 58/100\n",
      "68/68 [==============================] - 15s 223ms/step - loss: 0.2112 - accuracy: 0.9287 - val_loss: 2.3381 - val_accuracy: 0.5864\n",
      "Epoch 59/100\n",
      "68/68 [==============================] - 15s 227ms/step - loss: 0.2199 - accuracy: 0.9291 - val_loss: 2.3073 - val_accuracy: 0.5680\n",
      "Epoch 60/100\n",
      "68/68 [==============================] - 16s 238ms/step - loss: 0.2060 - accuracy: 0.9324 - val_loss: 2.2703 - val_accuracy: 0.5717\n",
      "Epoch 61/100\n",
      "68/68 [==============================] - 17s 255ms/step - loss: 0.2102 - accuracy: 0.9264 - val_loss: 2.2757 - val_accuracy: 0.5827\n",
      "Epoch 62/100\n",
      "68/68 [==============================] - 18s 257ms/step - loss: 0.2106 - accuracy: 0.9360 - val_loss: 2.2899 - val_accuracy: 0.6011\n",
      "Epoch 63/100\n",
      "68/68 [==============================] - 17s 256ms/step - loss: 0.1948 - accuracy: 0.9397 - val_loss: 2.3642 - val_accuracy: 0.5993\n",
      "Epoch 64/100\n",
      "68/68 [==============================] - 18s 264ms/step - loss: 0.1796 - accuracy: 0.9406 - val_loss: 2.4639 - val_accuracy: 0.5809\n",
      "Epoch 65/100\n",
      "68/68 [==============================] - 18s 257ms/step - loss: 0.1975 - accuracy: 0.9305 - val_loss: 2.4409 - val_accuracy: 0.5919\n",
      "Epoch 66/100\n",
      "68/68 [==============================] - 18s 261ms/step - loss: 0.1859 - accuracy: 0.9356 - val_loss: 2.2298 - val_accuracy: 0.6268\n",
      "Epoch 67/100\n",
      "68/68 [==============================] - 18s 262ms/step - loss: 0.1704 - accuracy: 0.9467 - val_loss: 2.4497 - val_accuracy: 0.6195\n",
      "Epoch 68/100\n",
      "68/68 [==============================] - 17s 253ms/step - loss: 0.1605 - accuracy: 0.9489 - val_loss: 2.3778 - val_accuracy: 0.6121\n",
      "Epoch 69/100\n",
      "68/68 [==============================] - 18s 258ms/step - loss: 0.1484 - accuracy: 0.9489 - val_loss: 2.3812 - val_accuracy: 0.5901\n",
      "Epoch 70/100\n",
      "68/68 [==============================] - 18s 264ms/step - loss: 0.1713 - accuracy: 0.9443 - val_loss: 2.8706 - val_accuracy: 0.5974\n",
      "Epoch 71/100\n",
      "68/68 [==============================] - 18s 268ms/step - loss: 0.1518 - accuracy: 0.9485 - val_loss: 2.6483 - val_accuracy: 0.5680\n",
      "Epoch 72/100\n",
      "68/68 [==============================] - 17s 252ms/step - loss: 0.1737 - accuracy: 0.9429 - val_loss: 2.5794 - val_accuracy: 0.5938\n",
      "Epoch 73/100\n",
      "68/68 [==============================] - 18s 258ms/step - loss: 0.1548 - accuracy: 0.9471 - val_loss: 2.4792 - val_accuracy: 0.5919\n",
      "Epoch 74/100\n",
      "68/68 [==============================] - 17s 251ms/step - loss: 0.1524 - accuracy: 0.9494 - val_loss: 2.4708 - val_accuracy: 0.5956\n",
      "Epoch 75/100\n",
      "68/68 [==============================] - 17s 255ms/step - loss: 0.1534 - accuracy: 0.9494 - val_loss: 2.5644 - val_accuracy: 0.5919\n",
      "Epoch 76/100\n",
      "68/68 [==============================] - 18s 261ms/step - loss: 0.1781 - accuracy: 0.9429 - val_loss: 2.4244 - val_accuracy: 0.5882\n",
      "Epoch 77/100\n",
      "68/68 [==============================] - 17s 255ms/step - loss: 0.1793 - accuracy: 0.9416 - val_loss: 2.4584 - val_accuracy: 0.5864\n",
      "Epoch 78/100\n",
      "68/68 [==============================] - 18s 262ms/step - loss: 0.1171 - accuracy: 0.9618 - val_loss: 2.6921 - val_accuracy: 0.6011\n",
      "Epoch 79/100\n",
      "68/68 [==============================] - 17s 252ms/step - loss: 0.1651 - accuracy: 0.9434 - val_loss: 2.9117 - val_accuracy: 0.5864\n",
      "Epoch 80/100\n",
      "68/68 [==============================] - 15s 215ms/step - loss: 0.1513 - accuracy: 0.9494 - val_loss: 2.7477 - val_accuracy: 0.5864\n",
      "Epoch 81/100\n",
      "68/68 [==============================] - 14s 211ms/step - loss: 0.1390 - accuracy: 0.9526 - val_loss: 2.8740 - val_accuracy: 0.5754\n",
      "Epoch 82/100\n",
      "68/68 [==============================] - 14s 207ms/step - loss: 0.1255 - accuracy: 0.9595 - val_loss: 2.4886 - val_accuracy: 0.6066\n",
      "Epoch 83/100\n",
      "68/68 [==============================] - 14s 208ms/step - loss: 0.1741 - accuracy: 0.9480 - val_loss: 2.6374 - val_accuracy: 0.6048\n",
      "Epoch 84/100\n",
      "68/68 [==============================] - 16s 232ms/step - loss: 0.1470 - accuracy: 0.9517 - val_loss: 2.5376 - val_accuracy: 0.6048\n",
      "Epoch 85/100\n",
      "68/68 [==============================] - 18s 270ms/step - loss: 0.1240 - accuracy: 0.9581 - val_loss: 2.5764 - val_accuracy: 0.6103\n",
      "Epoch 86/100\n",
      "68/68 [==============================] - 16s 228ms/step - loss: 0.1139 - accuracy: 0.9650 - val_loss: 2.7271 - val_accuracy: 0.5901\n",
      "Epoch 87/100\n",
      "68/68 [==============================] - 15s 217ms/step - loss: 0.1072 - accuracy: 0.9646 - val_loss: 2.6658 - val_accuracy: 0.6085\n",
      "Epoch 88/100\n",
      "68/68 [==============================] - 15s 221ms/step - loss: 0.1194 - accuracy: 0.9586 - val_loss: 2.6196 - val_accuracy: 0.5919\n",
      "Epoch 89/100\n",
      "68/68 [==============================] - 16s 233ms/step - loss: 0.0953 - accuracy: 0.9701 - val_loss: 2.9646 - val_accuracy: 0.5993\n",
      "Epoch 90/100\n",
      "68/68 [==============================] - 16s 230ms/step - loss: 0.1335 - accuracy: 0.9604 - val_loss: 2.7982 - val_accuracy: 0.5846\n",
      "Epoch 91/100\n",
      "68/68 [==============================] - 16s 241ms/step - loss: 0.1041 - accuracy: 0.9659 - val_loss: 2.8263 - val_accuracy: 0.5827\n",
      "Epoch 92/100\n",
      "68/68 [==============================] - 16s 239ms/step - loss: 0.1031 - accuracy: 0.9669 - val_loss: 2.7579 - val_accuracy: 0.5919\n",
      "Epoch 93/100\n",
      "68/68 [==============================] - 16s 242ms/step - loss: 0.0920 - accuracy: 0.9655 - val_loss: 3.0243 - val_accuracy: 0.5699\n",
      "Epoch 94/100\n",
      "68/68 [==============================] - 15s 221ms/step - loss: 0.1240 - accuracy: 0.9572 - val_loss: 3.0437 - val_accuracy: 0.5938\n",
      "Epoch 95/100\n",
      "68/68 [==============================] - 14s 209ms/step - loss: 0.1366 - accuracy: 0.9521 - val_loss: 2.7890 - val_accuracy: 0.5809\n",
      "Epoch 96/100\n",
      "68/68 [==============================] - 16s 230ms/step - loss: 0.1334 - accuracy: 0.9618 - val_loss: 2.6431 - val_accuracy: 0.6029\n",
      "Epoch 97/100\n",
      "68/68 [==============================] - 16s 238ms/step - loss: 0.1052 - accuracy: 0.9669 - val_loss: 2.6286 - val_accuracy: 0.5993\n",
      "Epoch 98/100\n",
      "68/68 [==============================] - 15s 217ms/step - loss: 0.0862 - accuracy: 0.9715 - val_loss: 2.9465 - val_accuracy: 0.6085\n",
      "Epoch 99/100\n",
      "68/68 [==============================] - 15s 223ms/step - loss: 0.1040 - accuracy: 0.9673 - val_loss: 2.8426 - val_accuracy: 0.5846\n",
      "Epoch 100/100\n",
      "68/68 [==============================] - 18s 269ms/step - loss: 0.1317 - accuracy: 0.9613 - val_loss: 2.7094 - val_accuracy: 0.6029\n"
     ]
    },
    {
     "data": {
      "text/plain": [
       "<keras.callbacks.History at 0x24483523340>"
      ]
     },
     "execution_count": 15,
     "metadata": {},
     "output_type": "execute_result"
    }
   ],
   "source": [
    "model.fit(x_train, steps_per_epoch = 2205//32,epochs = 100 ,validation_data = x_test , validation_steps = 550//32)"
   ]
  },
  {
   "cell_type": "code",
   "execution_count": 16,
   "metadata": {},
   "outputs": [],
   "source": [
    "model.save(\"Skin_Diseases_1.h5\")"
   ]
  },
  {
   "cell_type": "code",
   "execution_count": null,
   "metadata": {},
   "outputs": [],
   "source": []
  },
  {
   "cell_type": "code",
   "execution_count": null,
   "metadata": {},
   "outputs": [],
   "source": []
  }
 ],
 "metadata": {
  "kernelspec": {
   "display_name": "Python 3",
   "language": "python",
   "name": "python3"
  },
  "language_info": {
   "codemirror_mode": {
    "name": "ipython",
    "version": 3
   },
   "file_extension": ".py",
   "mimetype": "text/x-python",
   "name": "python",
   "nbconvert_exporter": "python",
   "pygments_lexer": "ipython3",
   "version": "3.8.8"
  }
 },
 "nbformat": 4,
 "nbformat_minor": 2
}
